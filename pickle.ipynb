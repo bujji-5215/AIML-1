{
  "nbformat": 4,
  "nbformat_minor": 0,
  "metadata": {
    "colab": {
      "name": "pickle.ipynb",
      "provenance": [],
      "authorship_tag": "ABX9TyNr5KQvZPhXXaJUxvhXA7NI",
      "include_colab_link": true
    },
    "kernelspec": {
      "name": "python3",
      "display_name": "Python 3"
    }
  },
  "cells": [
    {
      "cell_type": "markdown",
      "metadata": {
        "id": "view-in-github",
        "colab_type": "text"
      },
      "source": [
        "<a href=\"https://colab.research.google.com/github/bujji-5215/AIML-1/blob/master/pickle.ipynb\" target=\"_parent\"><img src=\"https://colab.research.google.com/assets/colab-badge.svg\" alt=\"Open In Colab\"/></a>"
      ]
    },
    {
      "cell_type": "code",
      "metadata": {
        "id": "ZVV2utc-b8RM",
        "colab_type": "code",
        "colab": {}
      },
      "source": [
        "#save model using pickle\n",
        "import pandas\n",
        "from sklearn import model_selection\n",
        "from sklearn.linear_model import LogisticRegression\n",
        "from sklearn.model_selection import train_test_split\n",
        "import pickle"
      ],
      "execution_count": 0,
      "outputs": []
    },
    {
      "cell_type": "code",
      "metadata": {
        "id": "GPGPdwJjcYk0",
        "colab_type": "code",
        "colab": {}
      },
      "source": [
        "ur1=\"https://raw.githubusercontent.com/jbrownlee/Datasets/master/pima-indians-diabetes.data.csv\"\n",
        "names = ['preg','plas','pres','skin','test','mass','pedi','age','class']\n",
        "dataframe = pandas.read_csv(ur1,names=names)\n",
        "array = dataframe.values\n",
        "x = array[:,0:8]\n",
        "y = array[:,8]\n",
        "test_size = 0.33\n",
        "seed = 7\n",
        "x_train,x_test,y_train,y_test=model_selection.train_test_split(x,y,test_size=test_size,random_state=seed)\n",
        "#fit the model on training set\n",
        "model =LogisticRegression(max_iter=1500)\n",
        "model.fit(x_train, y_train)\n",
        "#save the model to disk\n",
        "filename = 'finalized_model.sav'\n",
        "pickle.dump(model,open(filename,'wb'))"
      ],
      "execution_count": 0,
      "outputs": []
    },
    {
      "cell_type": "code",
      "metadata": {
        "id": "VT3mOOhvfFI9",
        "colab_type": "code",
        "outputId": "5800c81b-9e7c-4139-c53d-c49a50b89615",
        "colab": {
          "base_uri": "https://localhost:8080/",
          "height": 35
        }
      },
      "source": [
        "#load the model from disk\n",
        "loaded_model = pickle.load(open(filename,'rb'))\n",
        "result = loaded_model.score(x_test,y_test)\n",
        "print(result)"
      ],
      "execution_count": 0,
      "outputs": [
        {
          "output_type": "stream",
          "text": [
            "0.7874015748031497\n"
          ],
          "name": "stdout"
        }
      ]
    },
    {
      "cell_type": "code",
      "metadata": {
        "id": "cLFuL3Dhfjdn",
        "colab_type": "code",
        "colab": {}
      },
      "source": [
        ""
      ],
      "execution_count": 0,
      "outputs": []
    }
  ]
}